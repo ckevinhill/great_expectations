{
 "metadata": {
  "language_info": {
   "codemirror_mode": {
    "name": "ipython",
    "version": 3
   },
   "file_extension": ".py",
   "mimetype": "text/x-python",
   "name": "python",
   "nbconvert_exporter": "python",
   "pygments_lexer": "ipython3",
   "version": "3.7.8-final"
  },
  "orig_nbformat": 2,
  "kernelspec": {
   "name": "python3",
   "display_name": "Python 3"
  }
 },
 "nbformat": 4,
 "nbformat_minor": 2,
 "cells": [
  {
   "source": [
    "## Data Exploration Notebook\n",
    "A notebook to provide initial EDA of downoaded \"wine-"
   ],
   "cell_type": "markdown",
   "metadata": {}
  },
  {
   "cell_type": "code",
   "execution_count": 1,
   "metadata": {},
   "outputs": [],
   "source": [
    "import pandas as pd"
   ]
  },
  {
   "cell_type": "code",
   "execution_count": 2,
   "metadata": {},
   "outputs": [],
   "source": [
    "df = pd.read_parquet (\"../data/sample/wine_quality_1.parquet\")"
   ]
  },
  {
   "cell_type": "code",
   "execution_count": 5,
   "metadata": {},
   "outputs": [
    {
     "output_type": "execute_result",
     "data": {
      "text/plain": [
       "        fixed acidity  volatile acidity  citric acid  residual sugar  \\\n",
       "count      160.000000        160.000000   160.000000      160.000000   \n",
       "unique            NaN               NaN          NaN             NaN   \n",
       "top               NaN               NaN          NaN             NaN   \n",
       "freq              NaN               NaN          NaN             NaN   \n",
       "mean         8.465625          0.515094     0.294125        2.498438   \n",
       "std          1.605378          0.174144     0.184883        1.368978   \n",
       "min          5.000000          0.160000     0.000000        1.200000   \n",
       "25%          7.300000          0.380000     0.120000        2.000000   \n",
       "50%          8.200000          0.500000     0.310000        2.200000   \n",
       "75%          9.150000          0.616250     0.460000        2.600000   \n",
       "max         13.300000          1.180000     0.690000       13.800000   \n",
       "\n",
       "         chlorides  free sulfur dioxide  total sulfur dioxide     density  \\\n",
       "count   160.000000            160.00000            160.000000  160.000000   \n",
       "unique         NaN                  NaN                   NaN         NaN   \n",
       "top            NaN                  NaN                   NaN         NaN   \n",
       "freq           NaN                  NaN                   NaN         NaN   \n",
       "mean      0.089769             15.53125             46.493750    0.996797   \n",
       "std       0.042877             10.49883             32.251761    0.001737   \n",
       "min       0.041000              3.00000              7.000000    0.991500   \n",
       "25%       0.072750              7.00000             20.000000    0.995748   \n",
       "50%       0.080000             13.00000             41.000000    0.996800   \n",
       "75%       0.092000             22.25000             62.500000    0.997800   \n",
       "max       0.341000             52.00000            152.000000    1.002420   \n",
       "\n",
       "                pH   sulphates     alcohol     quality type  \n",
       "count   160.000000  160.000000  160.000000  160.000000  160  \n",
       "unique         NaN         NaN         NaN         NaN    1  \n",
       "top            NaN         NaN         NaN         NaN  red  \n",
       "freq           NaN         NaN         NaN         NaN  160  \n",
       "mean      3.290125    0.651125   10.356979    5.656250  NaN  \n",
       "std       0.156008    0.157512    1.064525    0.861817  NaN  \n",
       "min       2.880000    0.370000    8.700000    3.000000  NaN  \n",
       "25%       3.170000    0.550000    9.500000    5.000000  NaN  \n",
       "50%       3.290000    0.620000   10.050000    6.000000  NaN  \n",
       "75%       3.380000    0.712500   11.000000    6.000000  NaN  \n",
       "max       4.010000    1.610000   13.500000    8.000000  NaN  "
      ],
      "text/html": "<div>\n<style scoped>\n    .dataframe tbody tr th:only-of-type {\n        vertical-align: middle;\n    }\n\n    .dataframe tbody tr th {\n        vertical-align: top;\n    }\n\n    .dataframe thead th {\n        text-align: right;\n    }\n</style>\n<table border=\"1\" class=\"dataframe\">\n  <thead>\n    <tr style=\"text-align: right;\">\n      <th></th>\n      <th>fixed acidity</th>\n      <th>volatile acidity</th>\n      <th>citric acid</th>\n      <th>residual sugar</th>\n      <th>chlorides</th>\n      <th>free sulfur dioxide</th>\n      <th>total sulfur dioxide</th>\n      <th>density</th>\n      <th>pH</th>\n      <th>sulphates</th>\n      <th>alcohol</th>\n      <th>quality</th>\n      <th>type</th>\n    </tr>\n  </thead>\n  <tbody>\n    <tr>\n      <th>count</th>\n      <td>160.000000</td>\n      <td>160.000000</td>\n      <td>160.000000</td>\n      <td>160.000000</td>\n      <td>160.000000</td>\n      <td>160.00000</td>\n      <td>160.000000</td>\n      <td>160.000000</td>\n      <td>160.000000</td>\n      <td>160.000000</td>\n      <td>160.000000</td>\n      <td>160.000000</td>\n      <td>160</td>\n    </tr>\n    <tr>\n      <th>unique</th>\n      <td>NaN</td>\n      <td>NaN</td>\n      <td>NaN</td>\n      <td>NaN</td>\n      <td>NaN</td>\n      <td>NaN</td>\n      <td>NaN</td>\n      <td>NaN</td>\n      <td>NaN</td>\n      <td>NaN</td>\n      <td>NaN</td>\n      <td>NaN</td>\n      <td>1</td>\n    </tr>\n    <tr>\n      <th>top</th>\n      <td>NaN</td>\n      <td>NaN</td>\n      <td>NaN</td>\n      <td>NaN</td>\n      <td>NaN</td>\n      <td>NaN</td>\n      <td>NaN</td>\n      <td>NaN</td>\n      <td>NaN</td>\n      <td>NaN</td>\n      <td>NaN</td>\n      <td>NaN</td>\n      <td>red</td>\n    </tr>\n    <tr>\n      <th>freq</th>\n      <td>NaN</td>\n      <td>NaN</td>\n      <td>NaN</td>\n      <td>NaN</td>\n      <td>NaN</td>\n      <td>NaN</td>\n      <td>NaN</td>\n      <td>NaN</td>\n      <td>NaN</td>\n      <td>NaN</td>\n      <td>NaN</td>\n      <td>NaN</td>\n      <td>160</td>\n    </tr>\n    <tr>\n      <th>mean</th>\n      <td>8.465625</td>\n      <td>0.515094</td>\n      <td>0.294125</td>\n      <td>2.498438</td>\n      <td>0.089769</td>\n      <td>15.53125</td>\n      <td>46.493750</td>\n      <td>0.996797</td>\n      <td>3.290125</td>\n      <td>0.651125</td>\n      <td>10.356979</td>\n      <td>5.656250</td>\n      <td>NaN</td>\n    </tr>\n    <tr>\n      <th>std</th>\n      <td>1.605378</td>\n      <td>0.174144</td>\n      <td>0.184883</td>\n      <td>1.368978</td>\n      <td>0.042877</td>\n      <td>10.49883</td>\n      <td>32.251761</td>\n      <td>0.001737</td>\n      <td>0.156008</td>\n      <td>0.157512</td>\n      <td>1.064525</td>\n      <td>0.861817</td>\n      <td>NaN</td>\n    </tr>\n    <tr>\n      <th>min</th>\n      <td>5.000000</td>\n      <td>0.160000</td>\n      <td>0.000000</td>\n      <td>1.200000</td>\n      <td>0.041000</td>\n      <td>3.00000</td>\n      <td>7.000000</td>\n      <td>0.991500</td>\n      <td>2.880000</td>\n      <td>0.370000</td>\n      <td>8.700000</td>\n      <td>3.000000</td>\n      <td>NaN</td>\n    </tr>\n    <tr>\n      <th>25%</th>\n      <td>7.300000</td>\n      <td>0.380000</td>\n      <td>0.120000</td>\n      <td>2.000000</td>\n      <td>0.072750</td>\n      <td>7.00000</td>\n      <td>20.000000</td>\n      <td>0.995748</td>\n      <td>3.170000</td>\n      <td>0.550000</td>\n      <td>9.500000</td>\n      <td>5.000000</td>\n      <td>NaN</td>\n    </tr>\n    <tr>\n      <th>50%</th>\n      <td>8.200000</td>\n      <td>0.500000</td>\n      <td>0.310000</td>\n      <td>2.200000</td>\n      <td>0.080000</td>\n      <td>13.00000</td>\n      <td>41.000000</td>\n      <td>0.996800</td>\n      <td>3.290000</td>\n      <td>0.620000</td>\n      <td>10.050000</td>\n      <td>6.000000</td>\n      <td>NaN</td>\n    </tr>\n    <tr>\n      <th>75%</th>\n      <td>9.150000</td>\n      <td>0.616250</td>\n      <td>0.460000</td>\n      <td>2.600000</td>\n      <td>0.092000</td>\n      <td>22.25000</td>\n      <td>62.500000</td>\n      <td>0.997800</td>\n      <td>3.380000</td>\n      <td>0.712500</td>\n      <td>11.000000</td>\n      <td>6.000000</td>\n      <td>NaN</td>\n    </tr>\n    <tr>\n      <th>max</th>\n      <td>13.300000</td>\n      <td>1.180000</td>\n      <td>0.690000</td>\n      <td>13.800000</td>\n      <td>0.341000</td>\n      <td>52.00000</td>\n      <td>152.000000</td>\n      <td>1.002420</td>\n      <td>4.010000</td>\n      <td>1.610000</td>\n      <td>13.500000</td>\n      <td>8.000000</td>\n      <td>NaN</td>\n    </tr>\n  </tbody>\n</table>\n</div>"
     },
     "metadata": {},
     "execution_count": 5
    }
   ],
   "source": [
    "df.describe(include=\"all\")"
   ]
  }
 ]
}