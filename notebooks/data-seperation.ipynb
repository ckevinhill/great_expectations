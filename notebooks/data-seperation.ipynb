{
 "metadata": {
  "language_info": {
   "codemirror_mode": {
    "name": "ipython",
    "version": 3
   },
   "file_extension": ".py",
   "mimetype": "text/x-python",
   "name": "python",
   "nbconvert_exporter": "python",
   "pygments_lexer": "ipython3",
   "version": "3.7.8-final"
  },
  "orig_nbformat": 2,
  "kernelspec": {
   "name": "Python 3.7.8 64-bit ('2020fa-pset-final-ckevinhill': pipenv)",
   "display_name": "Python 3.7.8 64-bit ('2020fa-pset-final-ckevinhill': pipenv)",
   "metadata": {
    "interpreter": {
     "hash": "bc93cdd4faee624b608d6705bb8dfd149058235ce682e6d19e79f4ff25d80828"
    }
   }
  }
 },
 "nbformat": 4,
 "nbformat_minor": 2,
 "cells": [
  {
   "source": [
    "## Problem Set Data Creation\n",
    "A workbook that creates training sets required for the problem set."
   ],
   "cell_type": "markdown",
   "metadata": {}
  },
  {
   "cell_type": "code",
   "execution_count": 2,
   "metadata": {},
   "outputs": [],
   "source": [
    "# Imports:\n",
    "import pandas as pd"
   ]
  },
  {
   "cell_type": "code",
   "execution_count": 3,
   "metadata": {},
   "outputs": [],
   "source": [
    "# Read in seperate files\n",
    "# Downloaded from: https://archive.ics.uci.edu/ml/datasets/Wine+Quality\n",
    "# Add \"type\" column as identifier\n",
    "\n",
    "df_red = pd.read_csv( \"../data/raw/winequality-red.csv\", sep=\";\" )\n",
    "df_red[\"type\"] = \"red\"\n",
    "\n",
    "df_white = pd.read_csv( \"../data/raw/winequality-white.csv\", sep=\";\")\n",
    "df_white[\"type\"] = \"white\""
   ]
  },
  {
   "cell_type": "code",
   "execution_count": 4,
   "metadata": {},
   "outputs": [],
   "source": [
    "# Combine data-set for all wine types:\n",
    "df = pd.concat( [df_white, df_red] ).reset_index(drop=True)"
   ]
  },
  {
   "cell_type": "code",
   "execution_count": 23,
   "metadata": {},
   "outputs": [],
   "source": [
    "# Initial data set for model developement - small sample of just red-wine subset:\n",
    "df_sample_1 = df_red.sample(frac=.10)\n",
    "df_sample_1.to_parquet( \"../data/sample_data/wine_quality_1.parquet\" )"
   ]
  },
  {
   "cell_type": "code",
   "execution_count": 5,
   "metadata": {},
   "outputs": [],
   "source": [
    "df_sample_2 = df.sample(frac=.20)\n",
    "df_sample_2.to_parquet(\"../data/sample_data/wine_quality_2.parquet\")"
   ]
  },
  {
   "cell_type": "code",
   "execution_count": null,
   "metadata": {},
   "outputs": [],
   "source": []
  }
 ]
}